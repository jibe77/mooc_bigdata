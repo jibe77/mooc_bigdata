{
  "nbformat": 4,
  "nbformat_minor": 0,
  "metadata": {
    "colab": {
      "provenance": [],
      "authorship_tag": "ABX9TyOtKCtAMwY8TNtp73/Wy45m",
      "include_colab_link": true
    },
    "kernelspec": {
      "name": "python3",
      "display_name": "Python 3"
    },
    "language_info": {
      "name": "python"
    }
  },
  "cells": [
    {
      "cell_type": "markdown",
      "metadata": {
        "id": "view-in-github",
        "colab_type": "text"
      },
      "source": [
        "<a href=\"https://colab.research.google.com/github/jibe77/mooc_bigdata/blob/main/python_mooc_bigdata_semaine_1.ipynb\" target=\"_parent\"><img src=\"https://colab.research.google.com/assets/colab-badge.svg\" alt=\"Open In Colab\"/></a>"
      ]
    },
    {
      "cell_type": "markdown",
      "source": [
        "# Semaine 1"
      ],
      "metadata": {
        "id": "os-a5Uil8P9h"
      }
    },
    {
      "cell_type": "markdown",
      "source": [
        "documentation officielle sur Python :\n",
        "\n",
        "*   https://docs.python.org/3/reference/index.html\n",
        "*   https://docs.python.org/3/library/\n"
      ],
      "metadata": {
        "id": "TBuEwdk6BvFz"
      }
    },
    {
      "cell_type": "code",
      "source": [
        "# ceci est un commentaire"
      ],
      "metadata": {
        "id": "rBX9ALM-_EIA"
      },
      "execution_count": null,
      "outputs": []
    },
    {
      "cell_type": "markdown",
      "source": [
        "ceci lance une commande Unix affichant la liste des fichier à la racine du système de fichier :"
      ],
      "metadata": {
        "id": "vzzIY_eqAoN1"
      }
    },
    {
      "cell_type": "code",
      "source": [
        "!ls /"
      ],
      "metadata": {
        "id": "DAJQM8tjAdDz"
      },
      "execution_count": null,
      "outputs": []
    },
    {
      "cell_type": "markdown",
      "source": [
        "affichage le contenu du fichier :"
      ],
      "metadata": {
        "id": "v_U7B0bEAugS"
      }
    },
    {
      "cell_type": "code",
      "source": [
        "!cat semaine1_1_env_python.py"
      ],
      "metadata": {
        "id": "3fARqMkLAhlB"
      },
      "execution_count": null,
      "outputs": []
    },
    {
      "cell_type": "markdown",
      "source": [
        "affiche un message :"
      ],
      "metadata": {
        "id": "NZ2DzQKPAyoN"
      }
    },
    {
      "cell_type": "code",
      "source": [
        "print(\"bonjour tout le monde !\")"
      ],
      "metadata": {
        "id": "Sbdz05HxAkF7"
      },
      "execution_count": null,
      "outputs": []
    },
    {
      "cell_type": "markdown",
      "source": [
        "les nombres"
      ],
      "metadata": {
        "id": "IpOyH3JAA4Nb"
      }
    },
    {
      "cell_type": "code",
      "source": [
        "print (2+1)\n",
        "print (3*4)"
      ],
      "metadata": {
        "colab": {
          "base_uri": "https://localhost:8080/"
        },
        "id": "VdPzlyBHA5ZR",
        "outputId": "e0090138-5d08-4bf2-eef9-fd8b643f675c"
      },
      "execution_count": 2,
      "outputs": [
        {
          "output_type": "stream",
          "name": "stdout",
          "text": [
            "3\n",
            "12\n"
          ]
        }
      ]
    },
    {
      "cell_type": "markdown",
      "source": [
        "Calcul de puissance, ici 2 à la puissance 3 :"
      ],
      "metadata": {
        "id": "gpGT7Wd_BCAL"
      }
    },
    {
      "cell_type": "code",
      "source": [
        "print (2**3)"
      ],
      "metadata": {
        "id": "MxPwqVO9A9PD"
      },
      "execution_count": null,
      "outputs": []
    },
    {
      "cell_type": "markdown",
      "source": [
        "La fonction type permet de savoir de quel type est une variable,  ici <class 'int'>"
      ],
      "metadata": {
        "id": "hJFCmm6GBMO3"
      }
    },
    {
      "cell_type": "code",
      "source": [
        "a = 3\n",
        "print(type(a))\n",
        "\n",
        "c = 2.1\n",
        "print(type(c))"
      ],
      "metadata": {
        "colab": {
          "base_uri": "https://localhost:8080/"
        },
        "id": "YhRVagL0BOng",
        "outputId": "7bcd29a9-54e9-4c9b-fa3e-6c4c228dd6d2"
      },
      "execution_count": 3,
      "outputs": [
        {
          "output_type": "stream",
          "name": "stdout",
          "text": [
            "<class 'int'>\n",
            "<class 'float'>\n"
          ]
        }
      ]
    },
    {
      "cell_type": "markdown",
      "source": [
        "Un nombre complexe est une expression mathématique qui combine une partie réelle et une partie imaginaire."
      ],
      "metadata": {
        "id": "_wUwl4JKBUlm"
      }
    },
    {
      "cell_type": "code",
      "source": [
        "a = 1.5 + 1j\n",
        "print(a.real)\n",
        "print(a.imag)\n",
        "print(type(a))\n",
        "\n",
        "print (2 > 1)\n",
        "print (type(2>1))"
      ],
      "metadata": {
        "id": "b-yCpLXhBZok"
      },
      "execution_count": null,
      "outputs": []
    },
    {
      "cell_type": "markdown",
      "source": [
        "Les nombres et changements de type"
      ],
      "metadata": {
        "id": "1EdcWR_4BcJr"
      }
    },
    {
      "cell_type": "code",
      "source": [
        "print(7*3.) # int * float produit un float\n",
        "print(type(7*3.))\n",
        "\n",
        "print(3/2) # int / int -> int en python 2, mais float en python 3\n",
        "print(3/2.) # int / float -> float\n",
        "a = 2\n",
        "print(3/float(2))"
      ],
      "metadata": {
        "id": "pQ4ZXyB9Bidg"
      },
      "execution_count": null,
      "outputs": []
    },
    {
      "cell_type": "markdown",
      "source": [
        "Division entière"
      ],
      "metadata": {
        "id": "3ZYgLiFkBk8u"
      }
    },
    {
      "cell_type": "code",
      "source": [
        "print(3//2)"
      ],
      "metadata": {
        "id": "aeG4DXpbBnw0"
      },
      "execution_count": null,
      "outputs": []
    },
    {
      "cell_type": "markdown",
      "source": [
        "Librairie \"math\""
      ],
      "metadata": {
        "id": "RBzeDCzmCBCI"
      }
    },
    {
      "cell_type": "code",
      "source": [
        "import math\n",
        "\n",
        "x = math.cos(2*math.pi)\n",
        "print(x)"
      ],
      "metadata": {
        "colab": {
          "base_uri": "https://localhost:8080/"
        },
        "id": "SBWOB-q0CIj8",
        "outputId": "0072c6e1-caa2-4974-a41e-3eadbed3ef06"
      },
      "execution_count": 4,
      "outputs": [
        {
          "output_type": "stream",
          "name": "stdout",
          "text": [
            "1.0\n"
          ]
        }
      ]
    },
    {
      "cell_type": "markdown",
      "source": [
        "syntaxe alternative plus rapide"
      ],
      "metadata": {
        "id": "tfY3qB6hCMLa"
      }
    },
    {
      "cell_type": "code",
      "source": [
        "from math import cos, pi\n",
        "\n",
        "x = cos(2*pi)\n",
        "print(x)"
      ],
      "metadata": {
        "colab": {
          "base_uri": "https://localhost:8080/"
        },
        "id": "gDobYHMfCO5g",
        "outputId": "4b3b0e95-927b-4c82-b486-7429c72c9c95"
      },
      "execution_count": 5,
      "outputs": [
        {
          "output_type": "stream",
          "name": "stdout",
          "text": [
            "1.0\n"
          ]
        }
      ]
    },
    {
      "cell_type": "markdown",
      "source": [
        "syntaxe alternative non recommandée"
      ],
      "metadata": {
        "id": "V-e3c8kPCUly"
      }
    },
    {
      "cell_type": "code",
      "source": [
        "from math import *\n",
        "print(tanh(1))"
      ],
      "metadata": {
        "id": "eOWfSIu5CVbL"
      },
      "execution_count": null,
      "outputs": []
    },
    {
      "cell_type": "markdown",
      "source": [
        "import avec alias"
      ],
      "metadata": {
        "id": "_eMeiDW2CaiV"
      }
    },
    {
      "cell_type": "code",
      "source": [
        "import math as m\n",
        "print(m.cos(1.))"
      ],
      "metadata": {
        "id": "imdaDANjCbNk"
      },
      "execution_count": null,
      "outputs": []
    },
    {
      "cell_type": "markdown",
      "source": [
        "affiche le contenu d'un module"
      ],
      "metadata": {
        "id": "W8c0-pV9Cdhe"
      }
    },
    {
      "cell_type": "code",
      "source": [
        "print(dir(math))"
      ],
      "metadata": {
        "id": "kAoxfZ49Cf2u"
      },
      "execution_count": null,
      "outputs": []
    },
    {
      "cell_type": "markdown",
      "source": [
        "en mode intéractif, la fonction help est très utile"
      ],
      "metadata": {
        "id": "2DKuKjnwCh2X"
      }
    },
    {
      "cell_type": "code",
      "source": [
        "help(math)\n",
        "help(math.log)"
      ],
      "metadata": {
        "colab": {
          "base_uri": "https://localhost:8080/"
        },
        "id": "7AyMSS7zClWu",
        "outputId": "485823e3-d425-4d2c-f9ae-8194ae996b0f"
      },
      "execution_count": 7,
      "outputs": [
        {
          "output_type": "stream",
          "name": "stdout",
          "text": [
            "Help on built-in module math:\n",
            "\n",
            "NAME\n",
            "    math\n",
            "\n",
            "DESCRIPTION\n",
            "    This module provides access to the mathematical functions\n",
            "    defined by the C standard.\n",
            "\n",
            "FUNCTIONS\n",
            "    acos(x, /)\n",
            "        Return the arc cosine (measured in radians) of x.\n",
            "        \n",
            "        The result is between 0 and pi.\n",
            "    \n",
            "    acosh(x, /)\n",
            "        Return the inverse hyperbolic cosine of x.\n",
            "    \n",
            "    asin(x, /)\n",
            "        Return the arc sine (measured in radians) of x.\n",
            "        \n",
            "        The result is between -pi/2 and pi/2.\n",
            "    \n",
            "    asinh(x, /)\n",
            "        Return the inverse hyperbolic sine of x.\n",
            "    \n",
            "    atan(x, /)\n",
            "        Return the arc tangent (measured in radians) of x.\n",
            "        \n",
            "        The result is between -pi/2 and pi/2.\n",
            "    \n",
            "    atan2(y, x, /)\n",
            "        Return the arc tangent (measured in radians) of y/x.\n",
            "        \n",
            "        Unlike atan(y/x), the signs of both x and y are considered.\n",
            "    \n",
            "    atanh(x, /)\n",
            "        Return the inverse hyperbolic tangent of x.\n",
            "    \n",
            "    ceil(x, /)\n",
            "        Return the ceiling of x as an Integral.\n",
            "        \n",
            "        This is the smallest integer >= x.\n",
            "    \n",
            "    comb(n, k, /)\n",
            "        Number of ways to choose k items from n items without repetition and without order.\n",
            "        \n",
            "        Evaluates to n! / (k! * (n - k)!) when k <= n and evaluates\n",
            "        to zero when k > n.\n",
            "        \n",
            "        Also called the binomial coefficient because it is equivalent\n",
            "        to the coefficient of k-th term in polynomial expansion of the\n",
            "        expression (1 + x)**n.\n",
            "        \n",
            "        Raises TypeError if either of the arguments are not integers.\n",
            "        Raises ValueError if either of the arguments are negative.\n",
            "    \n",
            "    copysign(x, y, /)\n",
            "        Return a float with the magnitude (absolute value) of x but the sign of y.\n",
            "        \n",
            "        On platforms that support signed zeros, copysign(1.0, -0.0)\n",
            "        returns -1.0.\n",
            "    \n",
            "    cos(x, /)\n",
            "        Return the cosine of x (measured in radians).\n",
            "    \n",
            "    cosh(x, /)\n",
            "        Return the hyperbolic cosine of x.\n",
            "    \n",
            "    degrees(x, /)\n",
            "        Convert angle x from radians to degrees.\n",
            "    \n",
            "    dist(p, q, /)\n",
            "        Return the Euclidean distance between two points p and q.\n",
            "        \n",
            "        The points should be specified as sequences (or iterables) of\n",
            "        coordinates.  Both inputs must have the same dimension.\n",
            "        \n",
            "        Roughly equivalent to:\n",
            "            sqrt(sum((px - qx) ** 2.0 for px, qx in zip(p, q)))\n",
            "    \n",
            "    erf(x, /)\n",
            "        Error function at x.\n",
            "    \n",
            "    erfc(x, /)\n",
            "        Complementary error function at x.\n",
            "    \n",
            "    exp(x, /)\n",
            "        Return e raised to the power of x.\n",
            "    \n",
            "    expm1(x, /)\n",
            "        Return exp(x)-1.\n",
            "        \n",
            "        This function avoids the loss of precision involved in the direct evaluation of exp(x)-1 for small x.\n",
            "    \n",
            "    fabs(x, /)\n",
            "        Return the absolute value of the float x.\n",
            "    \n",
            "    factorial(x, /)\n",
            "        Find x!.\n",
            "        \n",
            "        Raise a ValueError if x is negative or non-integral.\n",
            "    \n",
            "    floor(x, /)\n",
            "        Return the floor of x as an Integral.\n",
            "        \n",
            "        This is the largest integer <= x.\n",
            "    \n",
            "    fmod(x, y, /)\n",
            "        Return fmod(x, y), according to platform C.\n",
            "        \n",
            "        x % y may differ.\n",
            "    \n",
            "    frexp(x, /)\n",
            "        Return the mantissa and exponent of x, as pair (m, e).\n",
            "        \n",
            "        m is a float and e is an int, such that x = m * 2.**e.\n",
            "        If x is 0, m and e are both 0.  Else 0.5 <= abs(m) < 1.0.\n",
            "    \n",
            "    fsum(seq, /)\n",
            "        Return an accurate floating point sum of values in the iterable seq.\n",
            "        \n",
            "        Assumes IEEE-754 floating point arithmetic.\n",
            "    \n",
            "    gamma(x, /)\n",
            "        Gamma function at x.\n",
            "    \n",
            "    gcd(*integers)\n",
            "        Greatest Common Divisor.\n",
            "    \n",
            "    hypot(...)\n",
            "        hypot(*coordinates) -> value\n",
            "        \n",
            "        Multidimensional Euclidean distance from the origin to a point.\n",
            "        \n",
            "        Roughly equivalent to:\n",
            "            sqrt(sum(x**2 for x in coordinates))\n",
            "        \n",
            "        For a two dimensional point (x, y), gives the hypotenuse\n",
            "        using the Pythagorean theorem:  sqrt(x*x + y*y).\n",
            "        \n",
            "        For example, the hypotenuse of a 3/4/5 right triangle is:\n",
            "        \n",
            "            >>> hypot(3.0, 4.0)\n",
            "            5.0\n",
            "    \n",
            "    isclose(a, b, *, rel_tol=1e-09, abs_tol=0.0)\n",
            "        Determine whether two floating point numbers are close in value.\n",
            "        \n",
            "          rel_tol\n",
            "            maximum difference for being considered \"close\", relative to the\n",
            "            magnitude of the input values\n",
            "          abs_tol\n",
            "            maximum difference for being considered \"close\", regardless of the\n",
            "            magnitude of the input values\n",
            "        \n",
            "        Return True if a is close in value to b, and False otherwise.\n",
            "        \n",
            "        For the values to be considered close, the difference between them\n",
            "        must be smaller than at least one of the tolerances.\n",
            "        \n",
            "        -inf, inf and NaN behave similarly to the IEEE 754 Standard.  That\n",
            "        is, NaN is not close to anything, even itself.  inf and -inf are\n",
            "        only close to themselves.\n",
            "    \n",
            "    isfinite(x, /)\n",
            "        Return True if x is neither an infinity nor a NaN, and False otherwise.\n",
            "    \n",
            "    isinf(x, /)\n",
            "        Return True if x is a positive or negative infinity, and False otherwise.\n",
            "    \n",
            "    isnan(x, /)\n",
            "        Return True if x is a NaN (not a number), and False otherwise.\n",
            "    \n",
            "    isqrt(n, /)\n",
            "        Return the integer part of the square root of the input.\n",
            "    \n",
            "    lcm(*integers)\n",
            "        Least Common Multiple.\n",
            "    \n",
            "    ldexp(x, i, /)\n",
            "        Return x * (2**i).\n",
            "        \n",
            "        This is essentially the inverse of frexp().\n",
            "    \n",
            "    lgamma(x, /)\n",
            "        Natural logarithm of absolute value of Gamma function at x.\n",
            "    \n",
            "    log(...)\n",
            "        log(x, [base=math.e])\n",
            "        Return the logarithm of x to the given base.\n",
            "        \n",
            "        If the base not specified, returns the natural logarithm (base e) of x.\n",
            "    \n",
            "    log10(x, /)\n",
            "        Return the base 10 logarithm of x.\n",
            "    \n",
            "    log1p(x, /)\n",
            "        Return the natural logarithm of 1+x (base e).\n",
            "        \n",
            "        The result is computed in a way which is accurate for x near zero.\n",
            "    \n",
            "    log2(x, /)\n",
            "        Return the base 2 logarithm of x.\n",
            "    \n",
            "    modf(x, /)\n",
            "        Return the fractional and integer parts of x.\n",
            "        \n",
            "        Both results carry the sign of x and are floats.\n",
            "    \n",
            "    nextafter(x, y, /)\n",
            "        Return the next floating-point value after x towards y.\n",
            "    \n",
            "    perm(n, k=None, /)\n",
            "        Number of ways to choose k items from n items without repetition and with order.\n",
            "        \n",
            "        Evaluates to n! / (n - k)! when k <= n and evaluates\n",
            "        to zero when k > n.\n",
            "        \n",
            "        If k is not specified or is None, then k defaults to n\n",
            "        and the function returns n!.\n",
            "        \n",
            "        Raises TypeError if either of the arguments are not integers.\n",
            "        Raises ValueError if either of the arguments are negative.\n",
            "    \n",
            "    pow(x, y, /)\n",
            "        Return x**y (x to the power of y).\n",
            "    \n",
            "    prod(iterable, /, *, start=1)\n",
            "        Calculate the product of all the elements in the input iterable.\n",
            "        \n",
            "        The default start value for the product is 1.\n",
            "        \n",
            "        When the iterable is empty, return the start value.  This function is\n",
            "        intended specifically for use with numeric values and may reject\n",
            "        non-numeric types.\n",
            "    \n",
            "    radians(x, /)\n",
            "        Convert angle x from degrees to radians.\n",
            "    \n",
            "    remainder(x, y, /)\n",
            "        Difference between x and the closest integer multiple of y.\n",
            "        \n",
            "        Return x - n*y where n*y is the closest integer multiple of y.\n",
            "        In the case where x is exactly halfway between two multiples of\n",
            "        y, the nearest even value of n is used. The result is always exact.\n",
            "    \n",
            "    sin(x, /)\n",
            "        Return the sine of x (measured in radians).\n",
            "    \n",
            "    sinh(x, /)\n",
            "        Return the hyperbolic sine of x.\n",
            "    \n",
            "    sqrt(x, /)\n",
            "        Return the square root of x.\n",
            "    \n",
            "    tan(x, /)\n",
            "        Return the tangent of x (measured in radians).\n",
            "    \n",
            "    tanh(x, /)\n",
            "        Return the hyperbolic tangent of x.\n",
            "    \n",
            "    trunc(x, /)\n",
            "        Truncates the Real x to the nearest Integral toward 0.\n",
            "        \n",
            "        Uses the __trunc__ magic method.\n",
            "    \n",
            "    ulp(x, /)\n",
            "        Return the value of the least significant bit of the float x.\n",
            "\n",
            "DATA\n",
            "    e = 2.718281828459045\n",
            "    inf = inf\n",
            "    nan = nan\n",
            "    pi = 3.141592653589793\n",
            "    tau = 6.283185307179586\n",
            "\n",
            "FILE\n",
            "    (built-in)\n",
            "\n",
            "\n",
            "Help on built-in function log in module math:\n",
            "\n",
            "log(...)\n",
            "    log(x, [base=math.e])\n",
            "    Return the logarithm of x to the given base.\n",
            "    \n",
            "    If the base not specified, returns the natural logarithm (base e) of x.\n",
            "\n"
          ]
        }
      ]
    },
    {
      "cell_type": "markdown",
      "source": [
        "fractions"
      ],
      "metadata": {
        "id": "Bd2vh8cmCrvS"
      }
    },
    {
      "cell_type": "code",
      "source": [
        "import fractions\n",
        "a = fractions.Fraction(2,3)\n",
        "b = fractions.Fraction(1,2)\n",
        "print(a + b)\n",
        "print(type(a))"
      ],
      "metadata": {
        "colab": {
          "base_uri": "https://localhost:8080/"
        },
        "id": "gC9WWkoSCsOl",
        "outputId": "62bb753f-c7d0-48e7-fc83-0ddad1a6b663"
      },
      "execution_count": 9,
      "outputs": [
        {
          "output_type": "stream",
          "name": "stdout",
          "text": [
            "7/6\n",
            "<class 'fractions.Fraction'>\n"
          ]
        }
      ]
    },
    {
      "cell_type": "markdown",
      "source": [
        "la fonction isinstance permet de vérifier le type référencé par une variable"
      ],
      "metadata": {
        "id": "7vCs1QrVC3Is"
      }
    },
    {
      "cell_type": "code",
      "source": [
        "print(isinstance(a, fractions.Fraction))\n",
        "a = fractions.Fraction(1,1)\n",
        "print(isinstance(a,int))"
      ],
      "metadata": {
        "id": "-Es_v-2jC3zl"
      },
      "execution_count": null,
      "outputs": []
    },
    {
      "cell_type": "markdown",
      "source": [
        "on peut convertir de float vers int ou encore complexe ...\n",
        "\n"
      ],
      "metadata": {
        "id": "PktnuASlC6PC"
      }
    },
    {
      "cell_type": "code",
      "source": [
        "x = 1.5\n",
        "print(x, type(x))\n",
        "x = int(x)\n",
        "print(x, type(x))\n",
        "z = complex(x)\n",
        "print(z, type(z))"
      ],
      "metadata": {
        "id": "0c4NA2JkDBI7"
      },
      "execution_count": null,
      "outputs": []
    },
    {
      "cell_type": "markdown",
      "source": [
        "... mais pas l'inverse car risque de perte d'information"
      ],
      "metadata": {
        "id": "_9fMYbTwDDv9"
      }
    },
    {
      "cell_type": "code",
      "source": [
        "# x = float(z)\n",
        "# print(x, type(x))\n",
        "# TypeError: can't convert complex to float\n"
      ],
      "metadata": {
        "id": "uGrT88t1DMUg"
      },
      "execution_count": null,
      "outputs": []
    },
    {
      "cell_type": "markdown",
      "source": [
        "opérateurs"
      ],
      "metadata": {
        "id": "tjxMSXppDPqx"
      }
    },
    {
      "cell_type": "code",
      "source": [
        "print(True and False)"
      ],
      "metadata": {
        "id": "_yOwZ0KcDQkj"
      },
      "execution_count": null,
      "outputs": []
    },
    {
      "cell_type": "markdown",
      "source": [
        "comparaisons"
      ],
      "metadata": {
        "id": "vgyL3M9ODSkf"
      }
    },
    {
      "cell_type": "code",
      "source": [
        "print(2 > 1)\n",
        "print(2 > 2)\n",
        "print(2 >= 2)\n",
        "print(2 == 2)\n",
        "print(2 != 3)"
      ],
      "metadata": {
        "id": "7Z9GLB2-DUcN"
      },
      "execution_count": null,
      "outputs": []
    },
    {
      "cell_type": "markdown",
      "source": [
        "chaines de caractères avec \"\" ou ''"
      ],
      "metadata": {
        "id": "dcpDupQaEpg8"
      }
    },
    {
      "cell_type": "code",
      "source": [
        "s = \"Bonjour Université de Lorraine\"\n",
        "s = 'Bonjour Université de Lorraine'\n",
        "print(s)\n",
        "print(type(s))"
      ],
      "metadata": {
        "colab": {
          "base_uri": "https://localhost:8080/"
        },
        "id": "KJEJo99wEqcB",
        "outputId": "0213c4cd-97b7-492d-9b73-7a2c088a54e9"
      },
      "execution_count": 10,
      "outputs": [
        {
          "output_type": "stream",
          "name": "stdout",
          "text": [
            "Bonjour Université de Lorraine\n",
            "<class 'str'>\n"
          ]
        }
      ]
    },
    {
      "cell_type": "markdown",
      "source": [
        "accès à un sous-élément"
      ],
      "metadata": {
        "id": "z10yEkf6Es_M"
      }
    },
    {
      "cell_type": "code",
      "source": [
        "print('affichage du premier élément de la chaine de caractères:',s[0])\n",
        "print('affichage du dernier élément de la chaine de caractères:',s[-1])"
      ],
      "metadata": {
        "id": "Kv6oIPCeExlM"
      },
      "execution_count": null,
      "outputs": []
    },
    {
      "cell_type": "markdown",
      "source": [
        "extraction d'une sous-chaine"
      ],
      "metadata": {
        "id": "S1WdGkjQEz55"
      }
    },
    {
      "cell_type": "code",
      "source": [
        "print('extraction d''une sous-chaine avec s[0:7] : ', s[0:7])\n",
        "start, stop = 1, 7\n",
        "print(s[start:stop])\n",
        "print(len(s[start:stop]))\n",
        "print(stop-start)"
      ],
      "metadata": {
        "id": "6AETSjArE1_7"
      },
      "execution_count": null,
      "outputs": []
    },
    {
      "cell_type": "markdown",
      "source": [
        "on peut omettre start ou stop"
      ],
      "metadata": {
        "id": "glIwx7x9E4ta"
      }
    },
    {
      "cell_type": "code",
      "source": [
        "print('affichage des 7 premiers caractères:', s[:7])\n",
        "print('affichage à partir du 8ème caractères :', s[8:])\n",
        "print('affichage des 8 derniers caractères : ', s[-8:])"
      ],
      "metadata": {
        "id": "jesqGAaKE68Q"
      },
      "execution_count": null,
      "outputs": []
    },
    {
      "cell_type": "markdown",
      "source": [
        "utilisation du slicing"
      ],
      "metadata": {
        "id": "fUnZnc9iE9Tg"
      }
    },
    {
      "cell_type": "code",
      "source": [
        "s = \"ababababa\"\n",
        "print('affichage des a:', s[0::2])\n",
        "print('affichage des b:', s[1::2])"
      ],
      "metadata": {
        "id": "tBtIkFGNE__K"
      },
      "execution_count": null,
      "outputs": []
    },
    {
      "cell_type": "markdown",
      "source": [
        "mise en forme des chaines de caractères"
      ],
      "metadata": {
        "id": "mUdejrwtFCUP"
      }
    },
    {
      "cell_type": "code",
      "source": [
        "print(\"Ici tout est converti en string:\", \"str1\", 1.0, False, -1j)\n",
        "print(\"Ici les chaines sont concaténées \" + \"str1\" + \"str2\" + \"str3\")\n",
        "print(\"Multiplication de la string\" * 3)"
      ],
      "metadata": {
        "id": "D4y7xOxqFFuM"
      },
      "execution_count": null,
      "outputs": []
    },
    {
      "cell_type": "markdown",
      "source": [
        "formatage"
      ],
      "metadata": {
        "id": "31I28vBHFIOu"
      }
    },
    {
      "cell_type": "code",
      "source": [
        "a = 1.0\n",
        "print(\"val = %e\" % a)\n",
        "print(\"val = %f\" % a)\n",
        "print(\"val = %s\" % a)\n",
        "print(\"val1 = %.2f, val2 = %d\" % (3.1415, 1.5))"
      ],
      "metadata": {
        "id": "p1GUCAXJFKZq"
      },
      "execution_count": null,
      "outputs": []
    },
    {
      "cell_type": "markdown",
      "source": [
        "listes"
      ],
      "metadata": {
        "id": "CXqyLl9HFLDf"
      }
    },
    {
      "cell_type": "code",
      "source": [
        "l = [1,2,3,4]\n",
        "print(l)\n",
        "print(type(l))\n",
        "print('affichage du premier élément:', l[0])\n",
        "print('affichage de l\\'avant dernier élément:', l[-2])\n",
        "print('affichage de l\\'élément 1 à 3:', l[1:3])\n",
        "print('affichage d\\'un élément sur 2:', l[::2])"
      ],
      "metadata": {
        "id": "qRtphjxhFM6u"
      },
      "execution_count": null,
      "outputs": []
    },
    {
      "cell_type": "markdown",
      "source": [
        "on peut mélanger les types"
      ],
      "metadata": {
        "id": "bewoaDCTFO_-"
      }
    },
    {
      "cell_type": "code",
      "source": [
        "l = [1,'a',1.0,-1j]\n",
        "print(l)"
      ],
      "metadata": {
        "id": "QBhsOk_WFTIf"
      },
      "execution_count": null,
      "outputs": []
    },
    {
      "cell_type": "markdown",
      "source": [
        "on peut faire des listes de listes"
      ],
      "metadata": {
        "id": "5UX-7ksXFVAn"
      }
    },
    {
      "cell_type": "code",
      "source": [
        "liste_de_listes = [1, [2, [3, [4, [5]]]]]\n",
        "print(liste_de_listes)"
      ],
      "metadata": {
        "id": "Lsu4VvTQFXj6"
      },
      "execution_count": null,
      "outputs": []
    },
    {
      "cell_type": "markdown",
      "source": [
        "la fonction range pour générer des listes d'entiers"
      ],
      "metadata": {
        "id": "7yL9DaAoFaOS"
      }
    },
    {
      "cell_type": "code",
      "source": [
        "start, stop, step = 10, 30, 2\n",
        "print('la fonction range génère des listes d\\'entiers:',\n",
        "      list(range(start, stop, step)))\n",
        "print('gènère des entiers de -10 à 10:', list(range(-10, 10)))\n",
        "n = 10\n",
        "print(list(range(n-1, -1, -1)))"
      ],
      "metadata": {
        "id": "7FwB2AlvFcbW"
      },
      "execution_count": null,
      "outputs": []
    },
    {
      "cell_type": "markdown",
      "source": [
        "pour convertir une chaine de caractères en liste"
      ],
      "metadata": {
        "id": "weH2rJsLFfP5"
      }
    },
    {
      "cell_type": "code",
      "source": [
        "s = \"zabcda\"\n",
        "l = list(s)\n",
        "print('on convertit une string en chaine de caractères :', l)"
      ],
      "metadata": {
        "id": "Vot9QMc0Fhzc"
      },
      "execution_count": null,
      "outputs": []
    },
    {
      "cell_type": "markdown",
      "source": [
        "pour trier une liste"
      ],
      "metadata": {
        "id": "taS0LJASFkOM"
      }
    },
    {
      "cell_type": "code",
      "source": [
        "l_sorted = sorted(l)\n",
        "print(l)\n",
        "print(l_sorted)"
      ],
      "metadata": {
        "id": "_QmGGFPvFmXn"
      },
      "execution_count": null,
      "outputs": []
    },
    {
      "cell_type": "markdown",
      "source": [
        "cette syntaxe appelle la méthode sort() et modifie la liste en court de manipulation sans en créer un autre"
      ],
      "metadata": {
        "id": "2xFiseO2Fo9_"
      }
    },
    {
      "cell_type": "code",
      "source": [
        "l.sort()\n",
        "print(l)"
      ],
      "metadata": {
        "id": "As5VXVUdFs-R"
      },
      "execution_count": null,
      "outputs": []
    },
    {
      "cell_type": "markdown",
      "source": [
        "ajouter, insérer, modifier et enlever des éléments dans une liste création d'une liste vide"
      ],
      "metadata": {
        "id": "GUGV4eL6FvPg"
      }
    },
    {
      "cell_type": "code",
      "source": [
        "l = []\n",
        "l.append(\"A\")\n",
        "l.append(\"d\")\n",
        "l.append(\"d\")\n",
        "print(l)\n",
        "print('compte le nombre de d dans la string:', l.count('d'))"
      ],
      "metadata": {
        "id": "M-86usaUFywh"
      },
      "execution_count": null,
      "outputs": []
    },
    {
      "cell_type": "markdown",
      "source": [
        "on peut modifier la liste par assignation"
      ],
      "metadata": {
        "id": "_AFRI41hF1RP"
      }
    },
    {
      "cell_type": "code",
      "source": [
        "l[2] = 'c'\n",
        "print(l)\n",
        "l[1:3] = [\"f\", \"f\"]\n",
        "print(l)"
      ],
      "metadata": {
        "id": "GMBXA4P7F3j8"
      },
      "execution_count": null,
      "outputs": []
    },
    {
      "cell_type": "markdown",
      "source": [
        "insertion d'élément"
      ],
      "metadata": {
        "id": "xeb_f_0GF5zo"
      }
    },
    {
      "cell_type": "code",
      "source": [
        "l.insert(0,\"i\")\n",
        "l.insert(1,\"n\")\n",
        "l.insert(2,\"s\")\n",
        "l.insert(3,\"e\")\n",
        "l.insert(4,\"r\")\n",
        "l.insert(5,\"t\")\n",
        "print(l)"
      ],
      "metadata": {
        "id": "2JcAp4wuF75x"
      },
      "execution_count": null,
      "outputs": []
    },
    {
      "cell_type": "markdown",
      "source": [
        "suppression d'un élément"
      ],
      "metadata": {
        "id": "WVlyHJTcF97R"
      }
    },
    {
      "cell_type": "code",
      "source": [
        "l.remove(\"A\")\n",
        "l.remove(\"f\") # supprime uniquement le premier f\n",
        "print(l)"
      ],
      "metadata": {
        "id": "ja3RRrdBGAMB"
      },
      "execution_count": null,
      "outputs": []
    },
    {
      "cell_type": "markdown",
      "source": [
        "vérifier la présence d'une valeur dans la liste"
      ],
      "metadata": {
        "id": "LyOcYhZdGCcZ"
      }
    },
    {
      "cell_type": "code",
      "source": [
        "print(\"Est-ce que A est présent dans la liste ?\", \"A\" in l)\n",
        "print(\"Index de i dans la liste : \", l.index(\"i\"))"
      ],
      "metadata": {
        "id": "SIlmLC8VGGLb"
      },
      "execution_count": null,
      "outputs": []
    },
    {
      "cell_type": "markdown",
      "source": [
        "suppression à un index précis"
      ],
      "metadata": {
        "id": "njD9X62MGI8f"
      }
    },
    {
      "cell_type": "code",
      "source": [
        "del l[0]\n",
        "print(l)"
      ],
      "metadata": {
        "id": "NkzAQOkIGLZ8"
      },
      "execution_count": null,
      "outputs": []
    },
    {
      "cell_type": "markdown",
      "source": [
        "pour concatener des listes"
      ],
      "metadata": {
        "id": "Ru3hJBiaGOK5"
      }
    },
    {
      "cell_type": "code",
      "source": [
        "l1 = [1,2,3]\n",
        "l2 = [4,5,6]\n",
        "print(l1 + l2)\n",
        "print(l1 * 2)"
      ],
      "metadata": {
        "id": "da34j3f4GSWs"
      },
      "execution_count": null,
      "outputs": []
    },
    {
      "cell_type": "markdown",
      "source": [
        "pour plus d'information :"
      ],
      "metadata": {
        "id": "AvRcAcIaGTKq"
      }
    },
    {
      "cell_type": "code",
      "source": [
        "help(list)"
      ],
      "metadata": {
        "id": "kUjTFiiBGVWF"
      },
      "execution_count": null,
      "outputs": []
    },
    {
      "cell_type": "markdown",
      "source": [
        "les tuples ressemblent à des listes mais ils sont non-mutables."
      ],
      "metadata": {
        "id": "R1nCIh4FGdmg"
      }
    },
    {
      "cell_type": "code",
      "source": [
        "point = (10,20)\n",
        "print(point, type(point))\n",
        "print(point[0])"
      ],
      "metadata": {
        "colab": {
          "base_uri": "https://localhost:8080/"
        },
        "id": "Vv5jgWxrGgKm",
        "outputId": "8c678215-4c23-49c4-a35a-9dcd64a20d5c"
      },
      "execution_count": 11,
      "outputs": [
        {
          "output_type": "stream",
          "name": "stdout",
          "text": [
            "(10, 20) <class 'tuple'>\n",
            "10\n"
          ]
        }
      ]
    },
    {
      "cell_type": "markdown",
      "source": [
        "un tuple peut être dépilé"
      ],
      "metadata": {
        "id": "DYmLSQKLGgxe"
      }
    },
    {
      "cell_type": "code",
      "source": [
        "x, y = point\n",
        "print(\"x = %s\" %x)\n",
        "print(\"y = %s\" %y)"
      ],
      "metadata": {
        "colab": {
          "base_uri": "https://localhost:8080/"
        },
        "id": "dkSEAWUXGjKg",
        "outputId": "f5deee50-c8d6-459d-8faf-bf55e2b20bde"
      },
      "execution_count": 12,
      "outputs": [
        {
          "output_type": "stream",
          "name": "stdout",
          "text": [
            "x = 10\n",
            "y = 20\n"
          ]
        }
      ]
    },
    {
      "cell_type": "markdown",
      "source": [
        "un tuple est non mutable donc ce code lève une exception :"
      ],
      "metadata": {
        "id": "bbQXtGg0GlRs"
      }
    },
    {
      "cell_type": "code",
      "source": [
        "point[0] = 5"
      ],
      "metadata": {
        "colab": {
          "base_uri": "https://localhost:8080/",
          "height": 139
        },
        "id": "YsH7JfMwGp1Q",
        "outputId": "399e6d07-2750-41a4-ad11-81bf77645a26"
      },
      "execution_count": 13,
      "outputs": [
        {
          "output_type": "error",
          "ename": "TypeError",
          "evalue": "'tuple' object does not support item assignment",
          "traceback": [
            "\u001b[0;31m---------------------------------------------------------------------------\u001b[0m",
            "\u001b[0;31mTypeError\u001b[0m                                 Traceback (most recent call last)",
            "\u001b[0;32m<ipython-input-13-dd5312a1302c>\u001b[0m in \u001b[0;36m<cell line: 1>\u001b[0;34m()\u001b[0m\n\u001b[0;32m----> 1\u001b[0;31m \u001b[0mpoint\u001b[0m\u001b[0;34m[\u001b[0m\u001b[0;36m0\u001b[0m\u001b[0;34m]\u001b[0m \u001b[0;34m=\u001b[0m \u001b[0;36m5\u001b[0m\u001b[0;34m\u001b[0m\u001b[0;34m\u001b[0m\u001b[0m\n\u001b[0m",
            "\u001b[0;31mTypeError\u001b[0m: 'tuple' object does not support item assignment"
          ]
        }
      ]
    },
    {
      "cell_type": "markdown",
      "source": [
        "les dictionnaires (similaire à des Map en Java) attention un dictionnaire n'est pas trié / sorted"
      ],
      "metadata": {
        "id": "8sYLrVb0Gvk0"
      }
    },
    {
      "cell_type": "code",
      "source": [
        "params = {\"param1\" : 1.0,\n",
        "          \"param2\": 2.0,\n",
        "          \"param3\": 3.0}\n",
        "print(params)"
      ],
      "metadata": {
        "colab": {
          "base_uri": "https://localhost:8080/"
        },
        "id": "EPBMRHBTGyvn",
        "outputId": "88f4d9ca-e859-4d60-bc78-d0db646f1372"
      },
      "execution_count": 14,
      "outputs": [
        {
          "output_type": "stream",
          "name": "stdout",
          "text": [
            "{'param1': 1.0, 'param2': 2.0, 'param3': 3.0}\n"
          ]
        }
      ]
    },
    {
      "cell_type": "markdown",
      "source": [
        "cette syntaxe est également possible :"
      ],
      "metadata": {
        "id": "AO_cNr3yG2cU"
      }
    },
    {
      "cell_type": "code",
      "source": [
        "params = dict(param1=1.0, param2=2.0, param3=3.0)\n",
        "print(type(params))\n",
        "print(params)"
      ],
      "metadata": {
        "id": "Mz9utJO6G62L"
      },
      "execution_count": null,
      "outputs": []
    },
    {
      "cell_type": "markdown",
      "source": [
        "accès aux éléments d'un dictionnaire (un diction)"
      ],
      "metadata": {
        "id": "EDMdtFFpG7dS"
      }
    },
    {
      "cell_type": "code",
      "source": [
        "print(\"param2 = %s\" % params[\"param2\"])\n",
        "\n",
        "params[\"param1\"] = \"A\"\n",
        "params[\"param2\"] = \"B\"\n",
        "params[\"param4\"] = \"D\"\n",
        "\n",
        "print(\"param1 = %s\" % params[\"param1\"])"
      ],
      "metadata": {
        "id": "v05IZ-cBG-Wt"
      },
      "execution_count": null,
      "outputs": []
    },
    {
      "cell_type": "markdown",
      "source": [
        "suppression d'une clé"
      ],
      "metadata": {
        "id": "pUxGZ8ZGHBH6"
      }
    },
    {
      "cell_type": "code",
      "source": [
        "del params[\"param4\"]\n",
        "print(params)"
      ],
      "metadata": {
        "id": "alKNYE70HDXV"
      },
      "execution_count": null,
      "outputs": []
    },
    {
      "cell_type": "markdown",
      "source": [
        "test la présence d'une clé dans un dictionnaire"
      ],
      "metadata": {
        "id": "xawmERlSHF1D"
      }
    },
    {
      "cell_type": "code",
      "source": [
        "print(\"Est-ce que param2 est présent dans le dictionnaire ? \", \"param2\" in params)\n",
        "print(\"Est-ce que param6 est présent dans le dictionnaire ? \", \"param6\" in params)"
      ],
      "metadata": {
        "colab": {
          "base_uri": "https://localhost:8080/"
        },
        "id": "O6_ERThSHH82",
        "outputId": "7eeaabba-b236-45ed-f9d1-255ad3f36a59"
      },
      "execution_count": 15,
      "outputs": [
        {
          "output_type": "stream",
          "name": "stdout",
          "text": [
            "Est-ce que param2 est présent dans le dictionnaire ?  True\n",
            "Est-ce que param6 est présent dans le dictionnaire ?  False\n"
          ]
        }
      ]
    },
    {
      "cell_type": "markdown",
      "source": [
        "conditions"
      ],
      "metadata": {
        "id": "KCXLQWEiHZf4"
      }
    },
    {
      "cell_type": "code",
      "source": [
        "condition1 = False\n",
        "condition2 = False\n",
        "if condition1:\n",
        "    print(\"condition1 est vrai\")\n",
        "elif condition2:\n",
        "    print(\"condition2 est vrai\")\n",
        "else:\n",
        "    print(\"aucune condition n'est vraie.\")\n",
        "\n",
        "condition1 = condition2 = True\n",
        "if condition1:\n",
        "    if condition2:\n",
        "        print(\"les conditions sont vraies\")"
      ],
      "metadata": {
        "id": "XDNqeCrlHZ_3"
      },
      "execution_count": null,
      "outputs": []
    },
    {
      "cell_type": "markdown",
      "source": [
        "attention à bien respecter l'identation !"
      ],
      "metadata": {
        "id": "jaVHjoEQHeOI"
      }
    },
    {
      "cell_type": "markdown",
      "source": [
        "les boucles"
      ],
      "metadata": {
        "id": "m3SBBkDcHjO9"
      }
    },
    {
      "cell_type": "code",
      "source": [
        "for x in [1,2,3]:\n",
        "    print(x)\n",
        "\n",
        "for x in range(4):\n",
        "    print(x)\n",
        "\n",
        "for word in [\"big\", \"data\", \"en\", \"python\"]:\n",
        "    print(word)\n",
        "\n",
        "for c in \"calcul\":\n",
        "    print(c)"
      ],
      "metadata": {
        "colab": {
          "base_uri": "https://localhost:8080/"
        },
        "id": "vv4ob1KoHhMa",
        "outputId": "a19c9f65-fc0f-40a6-a99c-b4036ae63bcf"
      },
      "execution_count": 16,
      "outputs": [
        {
          "output_type": "stream",
          "name": "stdout",
          "text": [
            "1\n",
            "2\n",
            "3\n",
            "0\n",
            "1\n",
            "2\n",
            "3\n",
            "big\n",
            "data\n",
            "en\n",
            "python\n",
            "c\n",
            "a\n",
            "l\n",
            "c\n",
            "u\n",
            "l\n"
          ]
        }
      ]
    },
    {
      "cell_type": "markdown",
      "source": [
        "enumeration permet de connaitre l'index et la valeur"
      ],
      "metadata": {
        "id": "7YNTiIOXHoYh"
      }
    },
    {
      "cell_type": "code",
      "source": [
        "s = \"calcul\"\n",
        "for idx, c in enumerate(s):\n",
        "    print(idx, c)"
      ],
      "metadata": {
        "id": "P0pu7qxVHqfX"
      },
      "execution_count": null,
      "outputs": []
    },
    {
      "cell_type": "markdown",
      "source": [
        "pour itérer sur un dictionnaire"
      ],
      "metadata": {
        "id": "81in2xdgHsnR"
      }
    },
    {
      "cell_type": "code",
      "source": [
        "params = {\"param1\":3.0,\n",
        "          \"param2\":\"B\",\n",
        "          \"param3\":\"A\"}\n",
        "for key, value in params.items():\n",
        "    print(\"%s = %s\" % (key, value))"
      ],
      "metadata": {
        "id": "x1xez84bHuse"
      },
      "execution_count": null,
      "outputs": []
    },
    {
      "cell_type": "markdown",
      "source": [
        "si on itère directement sur le dictionnaire, on récupère les clés."
      ],
      "metadata": {
        "id": "0kCblcNlHw8r"
      }
    },
    {
      "cell_type": "code",
      "source": [
        "for key in params:\n",
        "    print(key)"
      ],
      "metadata": {
        "colab": {
          "base_uri": "https://localhost:8080/"
        },
        "id": "XawWXpTlHzwN",
        "outputId": "18a40495-b8c8-49c2-89cc-aee0251dd723"
      },
      "execution_count": 17,
      "outputs": [
        {
          "output_type": "stream",
          "name": "stdout",
          "text": [
            "param1\n",
            "param2\n",
            "param3\n"
          ]
        }
      ]
    },
    {
      "cell_type": "markdown",
      "source": [
        "syntaxe \"list comprehension\" permettant la création d'une liste avec for"
      ],
      "metadata": {
        "id": "shK49wVeH4AT"
      }
    },
    {
      "cell_type": "code",
      "source": [
        "l = [x ** 2 for x in range(0,5)]\n",
        "print(\"liste l produite avec la syntaxe 'list comprehension':\", l)"
      ],
      "metadata": {
        "id": "quyMeSxdH415"
      },
      "execution_count": null,
      "outputs": []
    },
    {
      "cell_type": "markdown",
      "source": [
        "c'est la version plus courte de cette syntaxe :"
      ],
      "metadata": {
        "id": "IsVm6HryH6_H"
      }
    },
    {
      "cell_type": "code",
      "source": [
        "l = list()\n",
        "for x in range(0,5):\n",
        "    l.append(x**2)\n",
        "print(\"liste l produite avec la syntaxe longue:\", l)"
      ],
      "metadata": {
        "id": "8iGXGbRvH_Xt"
      },
      "execution_count": null,
      "outputs": []
    },
    {
      "cell_type": "markdown",
      "source": [
        "utilisation de la boucle while"
      ],
      "metadata": {
        "id": "R4yEZQtNICYS"
      }
    },
    {
      "cell_type": "code",
      "source": [
        "i = 0\n",
        "while i < 5:\n",
        "    print(i)\n",
        "    i = i + 1\n",
        "print(\"OK\")"
      ],
      "metadata": {
        "colab": {
          "base_uri": "https://localhost:8080/"
        },
        "id": "IvG4TagAIDG4",
        "outputId": "0c8b7910-162b-43b0-81f0-da279e33481e"
      },
      "execution_count": 19,
      "outputs": [
        {
          "output_type": "stream",
          "name": "stdout",
          "text": [
            "0\n",
            "1\n",
            "2\n",
            "3\n",
            "4\n",
            "OK\n"
          ]
        }
      ]
    },
    {
      "cell_type": "markdown",
      "source": [
        "Les fonctions\n",
        "Remarque : pour tout ':' l'interpréteur Python attend une identation."
      ],
      "metadata": {
        "id": "cAP75R0OIObp"
      }
    },
    {
      "cell_type": "code",
      "source": [
        "def fonction0():\n",
        "    print(\"Bonjour\")\n",
        "\n",
        "fonction0()"
      ],
      "metadata": {
        "colab": {
          "base_uri": "https://localhost:8080/"
        },
        "id": "Ar4FrHjIIQyg",
        "outputId": "c1ef8ab6-8132-4435-c6bb-f40b4c3e80cf"
      },
      "execution_count": 20,
      "outputs": [
        {
          "output_type": "stream",
          "name": "stdout",
          "text": [
            "Bonjour\n"
          ]
        }
      ]
    },
    {
      "cell_type": "markdown",
      "source": [
        "la documentation de la fonction"
      ],
      "metadata": {
        "id": "byXeU590IWg-"
      }
    },
    {
      "cell_type": "code",
      "source": [
        "def fonction1(s):\n",
        "    \"\"\"\n",
        "    Affichage d'une chaine et de sa longueur\n",
        "\n",
        "    Parameters\n",
        "    ----------\n",
        "    s : TYPE\n",
        "        DESCRIPTION.\n",
        "\n",
        "    Returns\n",
        "    -------\n",
        "    None.\n",
        "\n",
        "    \"\"\"\n",
        "    print(\"%s est de longueur %d\" % (s, len(s)))\n",
        "\n",
        "fonction1(\"Bonjour Université de Lorraine !\")\n",
        "help(fonction1)"
      ],
      "metadata": {
        "colab": {
          "base_uri": "https://localhost:8080/"
        },
        "id": "_ziSpzjOIXIW",
        "outputId": "52ba45ba-e3a9-4c83-cd15-9fb7d77b02ac"
      },
      "execution_count": 21,
      "outputs": [
        {
          "output_type": "stream",
          "name": "stdout",
          "text": [
            "Bonjour Université de Lorraine ! est de longueur 32\n",
            "Help on function fonction1 in module __main__:\n",
            "\n",
            "fonction1(s)\n",
            "    Affichage d'une chaine et de sa longueur\n",
            "    \n",
            "    Parameters\n",
            "    ----------\n",
            "    s : TYPE\n",
            "        DESCRIPTION.\n",
            "    \n",
            "    Returns\n",
            "    -------\n",
            "    None.\n",
            "\n"
          ]
        }
      ]
    },
    {
      "cell_type": "markdown",
      "source": [
        "la valeur de retour est précisée par le mot clé return"
      ],
      "metadata": {
        "id": "9bWTRD-dIbpk"
      }
    },
    {
      "cell_type": "code",
      "source": [
        "def square (x):\n",
        "    \"\"\"\n",
        "    Retourne le carré de x\n",
        "    \"\"\"\n",
        "    return x ** 2\n",
        "print(\"la fonction square retourne le carré du paramètre spécifié:\", square(2))"
      ],
      "metadata": {
        "id": "uIo7JdEVIfEJ"
      },
      "execution_count": null,
      "outputs": []
    },
    {
      "cell_type": "markdown",
      "source": [
        "on peut retourne plusieurs valeurs"
      ],
      "metadata": {
        "id": "51evsePmIhs7"
      }
    },
    {
      "cell_type": "code",
      "source": [
        "def powers(x):\n",
        "    \"\"\"\n",
        "    Retourne les premières puissances de x\n",
        "    \"\"\"\n",
        "    return x**2,x**3,x**4\n",
        "out = powers(3)\n",
        "print(type(out))\n",
        "print(len(out))\n",
        "print(out[1])\n",
        "print(out)"
      ],
      "metadata": {
        "id": "pJIw5Fa5Ijpc"
      },
      "execution_count": null,
      "outputs": []
    },
    {
      "cell_type": "markdown",
      "source": [
        "il est possible de dépiler les éléments par assignation"
      ],
      "metadata": {
        "id": "uNk_ONHSImqQ"
      }
    },
    {
      "cell_type": "code",
      "source": [
        "x1, x2, x3 = powers(3)\n",
        "print(x1)"
      ],
      "metadata": {
        "id": "BqwjNbecIpCd"
      },
      "execution_count": null,
      "outputs": []
    },
    {
      "cell_type": "markdown",
      "source": [
        "arguments par défaut"
      ],
      "metadata": {
        "id": "j3QGCf3tIrX1"
      }
    },
    {
      "cell_type": "code",
      "source": [
        "def ma_fonction(x, p=2, debug=False):\n",
        "    if debug:\n",
        "        print(\"evaluation ma_fonction avec x = %s et l'exposant p = %s\"\n",
        "              % (x, p))\n",
        "    return x ** p\n",
        "ma_fonction(5)\n",
        "ma_fonction(5, debug=True)\n",
        "ma_fonction(5, 4, True)"
      ],
      "metadata": {
        "id": "RPTvhHdqItj_"
      },
      "execution_count": null,
      "outputs": []
    },
    {
      "cell_type": "markdown",
      "source": [
        "les paramètres sont passés par référence, donc il faut faire attention aux effets de bord"
      ],
      "metadata": {
        "id": "mnkkTGoHIwHV"
      }
    },
    {
      "cell_type": "code",
      "source": [
        "def fonction(l):\n",
        "    l += l\n",
        "a = [1, 2]\n",
        "fonction(a)\n",
        "print(a)"
      ],
      "metadata": {
        "id": "I_e1KrrBI0Ft"
      },
      "execution_count": null,
      "outputs": []
    },
    {
      "cell_type": "markdown",
      "source": [
        "pour éviter ce problème, on doit faire une copie"
      ],
      "metadata": {
        "id": "7BzPefCaI2db"
      }
    },
    {
      "cell_type": "code",
      "source": [
        "def fonction1(l):\n",
        "    l = list(l)\n",
        "    l += l\n",
        "a = [1, 2]\n",
        "fonction1(a)\n",
        "print(\"dans ce cas, on a fait une copie du tableau passé en argument, donc a \"\n",
        "      + \"n\\'est pas modifié : \",a)"
      ],
      "metadata": {
        "id": "25pmOzQQI448"
      },
      "execution_count": null,
      "outputs": []
    },
    {
      "cell_type": "markdown",
      "source": [
        "Les classes"
      ],
      "metadata": {
        "id": "wCo6mql1JCD9"
      }
    },
    {
      "cell_type": "code",
      "source": [
        "class Point(object):\n",
        "    \"\"\"\n",
        "    Classe pour représenter un point\n",
        "    \"\"\"\n",
        "    def __init__(self, x, y):\n",
        "        \"\"\"\n",
        "        Création d'un nouveau point en position x et y\n",
        "        \"\"\"\n",
        "        self.x = x\n",
        "        self.y = y\n",
        "\n",
        "    def translate(self, dx, dy):\n",
        "        \"\"\"\n",
        "        Translate le point de dx et dy\n",
        "        \"\"\"\n",
        "        self.x += dx\n",
        "        self.y += dy\n",
        "\n",
        "    def __str__(self):\n",
        "        return \"Point: [%f, %f]\" % (self.x, self.y)\n",
        "\n",
        "p = Point(x=0, y=0)\n",
        "print(p.x)\n",
        "print(p.y)\n",
        "print(\"%s\" % p)\n",
        "\n",
        "p = Point(1,1)\n",
        "p.translate(0.25, 1.5)\n",
        "print(p)"
      ],
      "metadata": {
        "id": "XjgO4enXJDWk"
      },
      "execution_count": null,
      "outputs": []
    },
    {
      "cell_type": "markdown",
      "source": [
        "les exceptions"
      ],
      "metadata": {
        "id": "dffpiwyPJF4W"
      }
    },
    {
      "cell_type": "code",
      "source": [
        "def ma_fonction(arg):\n",
        "    if not isinstance(arg, list):\n",
        "        raise Exception(\"arg doit être de type list\")\n",
        "    print(\"tout s'est bien passé:\",arg)\n",
        "ma_fonction([1,2])\n",
        "# ma_fonction(1)\n",
        "#\n",
        "#  File ~/Documents/Developer/mooc_bigdata/semaine1_7_classes_objets.py:42 in ma_fonction\n",
        "#    raise Exception(\"arg doit être de type list\")\n",
        "#\n",
        "#   Exception: arg doit être de type list\n"
      ],
      "metadata": {
        "id": "9vATYotTJGo7"
      },
      "execution_count": null,
      "outputs": []
    },
    {
      "cell_type": "markdown",
      "source": [
        "pour gérer une exception, on utilise le mot clé \"except\""
      ],
      "metadata": {
        "id": "W2PIh1MlJT3D"
      }
    },
    {
      "cell_type": "code",
      "source": [
        "try:\n",
        "    ma_fonction(1)\n",
        "    print('OK')\n",
        "except:\n",
        "    print(\"Exception interceptée !\")"
      ],
      "metadata": {
        "id": "YWd86FUhJV9A"
      },
      "execution_count": null,
      "outputs": []
    },
    {
      "cell_type": "markdown",
      "source": [
        "pour obtenir des informations sur l'exception, on peut utiliser cette syntaxe"
      ],
      "metadata": {
        "id": "AZUI-x8WJaDd"
      }
    },
    {
      "cell_type": "code",
      "source": [
        "try:\n",
        "    print(var)\n",
        "except Exception as e:\n",
        "    print(\"Exception interceptée : %s\" % e)"
      ],
      "metadata": {
        "colab": {
          "base_uri": "https://localhost:8080/"
        },
        "id": "IDGauXiKJa-0",
        "outputId": "1b77f8d9-5dbd-4d0d-8fdd-a0c2456e2ac4"
      },
      "execution_count": 22,
      "outputs": [
        {
          "output_type": "stream",
          "name": "stdout",
          "text": [
            "Exception interceptée : name 'var' is not defined\n"
          ]
        }
      ]
    }
  ]
}